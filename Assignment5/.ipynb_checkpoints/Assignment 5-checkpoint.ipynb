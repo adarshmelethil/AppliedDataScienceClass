{
 "cells": [
  {
   "cell_type": "markdown",
   "metadata": {},
   "source": [
    "# ENSF 519.01 Applied Data Science \n",
    "**Assignment 5** - 100 marks\n",
    "\n",
    "**Due:** November 25, 05.00 pm.\n",
    "\n",
    "\n",
    "**IMPORTANT NOTE: each task must be implemented as asked, even if there are other easier or better solutions.**\n",
    "\n",
    "**How to deliver:**\n",
    "Edit this file and write your solutions in sections specified with `# Your solution`. Test your code and when you are done, submit this notebook as an `.ipynb` file to D2L dropbox. \n",
    "\n"
   ]
  },
  {
   "cell_type": "markdown",
   "metadata": {},
   "source": [
    "## Spam detection \n",
    "\n",
    "Here we have a dataset of text messages which are labeled as spam or ham. We want to read the dataset and use a clustering algorithm to tell spam messages from non-spam (ham!) ones. The data is in tsv format with two columns: label and text. TSV is just like csv but the column values are separated by a tab instead of a `,`. \n",
    "\n",
    "1. Read the file into a dataframe\n",
    "2. Convert `label` column to pandas categorical data type\n",
    "3. complete the `clean_text` function and apply it to the text column. To clean up:\n",
    "    1. Make it lowercase\n",
    "    2. Remove all of the punctuations (use `string.punctuation` and `str.translate`)\n",
    "    3. Replace repetetive whitespaces with just one blank charachter (e.g.: 'i    had \\tan apple' -> 'i had an apple')\n",
    "    4. Removing the stop words\n",
    "    5. Stem each word using snowball stemmer provided in `nltk`\n"
   ]
  },
  {
   "cell_type": "code",
   "execution_count": 20,
   "metadata": {
    "scrolled": true
   },
   "outputs": [
    {
     "name": "stdout",
     "output_type": "stream",
     "text": [
      "label    category\n",
      "text       object\n",
      "dtype: object\n"
     ]
    },
    {
     "data": {
      "text/html": [
       "<div>\n",
       "<style scoped>\n",
       "    .dataframe tbody tr th:only-of-type {\n",
       "        vertical-align: middle;\n",
       "    }\n",
       "\n",
       "    .dataframe tbody tr th {\n",
       "        vertical-align: top;\n",
       "    }\n",
       "\n",
       "    .dataframe thead th {\n",
       "        text-align: right;\n",
       "    }\n",
       "</style>\n",
       "<table border=\"1\" class=\"dataframe\">\n",
       "  <thead>\n",
       "    <tr style=\"text-align: right;\">\n",
       "      <th></th>\n",
       "      <th>label</th>\n",
       "      <th>text</th>\n",
       "    </tr>\n",
       "  </thead>\n",
       "  <tbody>\n",
       "    <tr>\n",
       "      <th>0</th>\n",
       "      <td>ham</td>\n",
       "      <td>jurong point crazi avail bugi n great world la...</td>\n",
       "    </tr>\n",
       "    <tr>\n",
       "      <th>1</th>\n",
       "      <td>ham</td>\n",
       "      <td>ok lar joke wif u oni</td>\n",
       "    </tr>\n",
       "    <tr>\n",
       "      <th>2</th>\n",
       "      <td>spam</td>\n",
       "      <td>free entri 2 wkli comp win fa cup final tkts 2...</td>\n",
       "    </tr>\n",
       "    <tr>\n",
       "      <th>3</th>\n",
       "      <td>ham</td>\n",
       "      <td>u dun say earli hor u c say</td>\n",
       "    </tr>\n",
       "    <tr>\n",
       "      <th>4</th>\n",
       "      <td>ham</td>\n",
       "      <td>nah dont think goe usf live</td>\n",
       "    </tr>\n",
       "    <tr>\n",
       "      <th>...</th>\n",
       "      <td>...</td>\n",
       "      <td>...</td>\n",
       "    </tr>\n",
       "    <tr>\n",
       "      <th>5567</th>\n",
       "      <td>spam</td>\n",
       "      <td>2nd time tri 2 contact u u won £750 pound priz...</td>\n",
       "    </tr>\n",
       "    <tr>\n",
       "      <th>5568</th>\n",
       "      <td>ham</td>\n",
       "      <td>ü b go esplanad fr home</td>\n",
       "    </tr>\n",
       "    <tr>\n",
       "      <th>5569</th>\n",
       "      <td>ham</td>\n",
       "      <td>piti  mood soani suggest</td>\n",
       "    </tr>\n",
       "    <tr>\n",
       "      <th>5570</th>\n",
       "      <td>ham</td>\n",
       "      <td>guy did bitch act like id interest buy week ga...</td>\n",
       "    </tr>\n",
       "    <tr>\n",
       "      <th>5571</th>\n",
       "      <td>ham</td>\n",
       "      <td>rofl true</td>\n",
       "    </tr>\n",
       "  </tbody>\n",
       "</table>\n",
       "<p>5572 rows × 2 columns</p>\n",
       "</div>"
      ],
      "text/plain": [
       "     label                                               text\n",
       "0      ham  jurong point crazi avail bugi n great world la...\n",
       "1      ham                              ok lar joke wif u oni\n",
       "2     spam  free entri 2 wkli comp win fa cup final tkts 2...\n",
       "3      ham                        u dun say earli hor u c say\n",
       "4      ham                        nah dont think goe usf live\n",
       "...    ...                                                ...\n",
       "5567  spam  2nd time tri 2 contact u u won £750 pound priz...\n",
       "5568   ham                            ü b go esplanad fr home\n",
       "5569   ham                           piti  mood soani suggest\n",
       "5570   ham  guy did bitch act like id interest buy week ga...\n",
       "5571   ham                                          rofl true\n",
       "\n",
       "[5572 rows x 2 columns]"
      ]
     },
     "execution_count": 20,
     "metadata": {},
     "output_type": "execute_result"
    }
   ],
   "source": [
    "import re, string\n",
    "import pandas as pd\n",
    "import numpy as np\n",
    "from sklearn.feature_extraction.text import ENGLISH_STOP_WORDS\n",
    "from nltk.stem.snowball import SnowballStemmer\n",
    "import matplotlib.pyplot as plt \n",
    "%matplotlib inline\n",
    "\n",
    "\n",
    "stemmer = SnowballStemmer(\"english\")\n",
    "space_regex = re.compile(r\"^\\s+\", re.MULTILINE)\n",
    "def clean_text(text):\n",
    "    \"\"\"\n",
    "    text: str, returns: str\n",
    "    \"\"\"\n",
    "    return \" \".join(map(lambda w: stemmer.stem(w), filter(lambda w: w not in ENGLISH_STOP_WORDS, space_regex.sub(\" \", text.lower().strip().translate(str.maketrans(\"\", \"\", string.punctuation))).split(\" \"))))\n",
    "\n",
    "sms = pd.read_csv('sms.tsv',\n",
    "    sep='\\t',\n",
    "    names=[\"label\", \"text\"],\n",
    "    dtype={\"label\": \"category\"},\n",
    "    converters={\"text\": clean_text})\n",
    "\n",
    "# Your solution\n",
    "print(sms.dtypes)  # Expected: label category text object dtype: object\n",
    "sms"
   ]
  },
  {
   "cell_type": "markdown",
   "metadata": {},
   "source": [
    "Split the data into train and test sets (20% test 80% training), use `stratify` parameter to ensure that there is an even split for both categories. X values should be the vectors and y values the labels.\n",
    "\n",
    "\n",
    "Complete `build_tfidf` function below to make and fit a TF-IDF vectorizer with `min_df` = 2. This function is later called in the loop. \n",
    "\n",
    "Similar to previous assignments and problems, change the random state in a for loop from 0 to 9, in each iteration:\n",
    "\n",
    "1. The vectorizer instance is created on the training set. Convert the `X_train` and `X_test` by calling the `transform` method. You don't have to refit the transformer in the loop.\n",
    "2. train and evaluate these classifiers: \n",
    "\n",
    "    * LogisticRegression \n",
    "    * LinearSVC\n",
    "    * Naïve Bayes, with Bernoulli distribution\n",
    "    * Decision tree, use 20 for `min_samples_split` to prevent overfitting\n",
    "    * Random Forest, with a 100 estimators and use min_samples_split like above\n",
    "\n",
    " \n",
    "\n",
    "Use `random_state`s from in `[0, 5)` in classifier contruction for those which accept this parameter.\n",
    "Keep record of these scores in a pandas dataframe and make a boxplot to compare them. Set ylim to `(0.85, 1)`. \n",
    "\n",
    "**You should do all these inside the `fit_eval` and `build_tfidf` functions. Don't add any lines of code before or after it.** Also it doesn't need to return any values."
   ]
  },
  {
   "cell_type": "code",
   "execution_count": 62,
   "metadata": {},
   "outputs": [
    {
     "data": {
      "image/png": "[encoded data removed]",
      "text/plain": [
       "<Figure size 432x288 with 1 Axes>"
      ]
     },
     "metadata": {
      "needs_background": "light"
     },
     "output_type": "display_data"
    }
   ],
   "source": [
    "from sklearn.svm import LinearSVC\n",
    "from sklearn.linear_model import LogisticRegression\n",
    "from sklearn.naive_bayes import BernoulliNB\n",
    "from sklearn.ensemble import RandomForestClassifier\n",
    "from sklearn.tree import DecisionTreeClassifier\n",
    "from sklearn.model_selection import train_test_split\n",
    "from sklearn.feature_extraction.text import TfidfVectorizer\n",
    "from sklearn.metrics import accuracy_score\n",
    "\n",
    "\n",
    "def build_tfidf(X_train):\n",
    "    vectorizer = TfidfVectorizer(min_df=2).fit(X_train)  # Your solution\n",
    "    # Fit the vectorizer here\n",
    "    return (vectorizer,)  # A tuple with only one item\n",
    "\n",
    "\n",
    "def fit_eval(get_vectorizer):\n",
    "    # Column names: 'Logistic Regression', 'Linear SVC', 'Naïve Bayes', 'Decision tree', 'Random Forest'\n",
    "    scores = {\n",
    "        \"Logistic Regression\": [],\n",
    "        \"Linear SVC\": [],\n",
    "        \"Naïve Bayes\": [],\n",
    "        \"Decision tree\": [],\n",
    "        \"Random Forest\": [],\n",
    "    }\n",
    "    for split_seed in range(10):\n",
    "        X_train, X_test, y_train, y_test = train_test_split(\n",
    "            sms[\"text\"],\n",
    "            sms[\"label\"],\n",
    "            test_size=0.2,\n",
    "            random_state=split_seed,\n",
    "            stratify=sms[[\"label\"]].values)\n",
    "        vectorizers = get_vectorizer(X_train)\n",
    "\n",
    "        # Apply the transformations using `vectorizer` instance above\n",
    "        def useVectorizers(vectorizers, input_val):\n",
    "            for i in range(len(vectorizers)-1,-1,-1):\n",
    "                input_val = vectorizers[i].transform(input_val)\n",
    "            return input_val\n",
    "        X_train_vec = useVectorizers(vectorizers, X_train)\n",
    "        X_test_vec = useVectorizers(vectorizers, X_test)\n",
    "        \n",
    "        # Your solution\n",
    "        lr = LogisticRegression(solver='liblinear').fit(X_train_vec, y_train)\n",
    "        lsvc = LinearSVC(random_state=split_seed, dual=False, loss=\"squared_hinge\").fit(X_train_vec, y_train)\n",
    "        bayes = BernoulliNB().fit(X_train_vec, y_train)\n",
    "        dt = DecisionTreeClassifier().fit(X_train_vec, y_train)\n",
    "        rf = RandomForestClassifier(n_estimators=100).fit(X_train_vec, y_train)\n",
    "\n",
    "        scores[\"Logistic Regression\"].append(accuracy_score(y_test, lr.predict(X_test_vec)))\n",
    "        scores[\"Linear SVC\"].append(accuracy_score(y_test, lsvc.predict(X_test_vec)))\n",
    "        scores[\"Naïve Bayes\"].append(accuracy_score(y_test, bayes.predict(X_test_vec)))\n",
    "        scores[\"Decision tree\"].append(accuracy_score(y_test, dt.predict(X_test_vec)))\n",
    "        scores[\"Random Forest\"].append(accuracy_score(y_test, rf.predict(X_test_vec)))\n",
    "\n",
    "    # Should not return anything\n",
    "    score_pd = pd.DataFrame.from_dict(scores)\n",
    "    fig, ax = plt.subplots()\n",
    "    box = score_pd.boxplot(ax=ax, rot=90)\n",
    "    ax.set_ylim(0.85, 1)\n",
    "    plt.show()\n",
    "    \n",
    "\n",
    "fit_eval(build_tfidf)"
   ]
  },
  {
   "cell_type": "markdown",
   "metadata": {},
   "source": [
    "Now call `fit_eval` function again but this time instead of using the TF-IDF vectors directly, we make a new function that builds, fits, and returns: a LDA with 25 topics and use topic coverage vector of each document (text message). Use 0 as the `random_state` and a `CountVectorizer` with `min_df` = 2 to vectorize the text messages."
   ]
  },
  {
   "cell_type": "code",
   "execution_count": 49,
   "metadata": {},
   "outputs": [],
   "source": [
    "from sklearn.decomposition import LatentDirichletAllocation\n",
    "from sklearn.feature_extraction.text import CountVectorizer\n",
    "\n",
    "# Your solution\n",
    "def build_lda(X_train):\n",
    "    \"\"\"\n",
    "    Create a count vectorizer as described above, feed the vectors into an LDA and fit it. \n",
    "    It should return both the lda and count vectorizer as they're both going to be used later. \n",
    "    Just keep the return statement as is and you should be good to go.\n",
    "    \"\"\"\n",
    "    # Your solution, \n",
    "    count_vectorizer = CountVectorizer(min_df=2).fit(X_train)\n",
    "    lda = LatentDirichletAllocation(n_components=25, random_state=0).fit(count_vectorizer.transform(X_train))\n",
    "    return lda, count_vectorizer\n"
   ]
  },
  {
   "cell_type": "code",
   "execution_count": 50,
   "metadata": {},
   "outputs": [
    {
     "data": {
      "image/png": "[encoded data removed]",
      "text/plain": [
       "<Figure size 432x288 with 1 Axes>"
      ]
     },
     "metadata": {
      "needs_background": "light"
     },
     "output_type": "display_data"
    }
   ],
   "source": [
    "fit_eval(build_lda)"
   ]
  },
  {
   "cell_type": "markdown",
   "metadata": {},
   "source": [
    "Use `components_` attribute of the LDA to find top 5 words of each topic and print them out."
   ]
  },
  {
   "cell_type": "code",
   "execution_count": 54,
   "metadata": {},
   "outputs": [
    {
     "name": "stdout",
     "output_type": "stream",
     "text": [
      "Top in 1: stop use send repli text\n",
      "Top in 2: thank mobil call problem just\n",
      "Top in 3: like love look know ur\n",
      "Top in 4: ltgt leav ask place like\n",
      "Top in 5: hour money walk car dont\n",
      "Top in 6: meet lor got wan time\n",
      "Top in 7: good day happi new year\n",
      "Top in 8: ur week txt just free\n",
      "Top in 9: nokia ur hand alright poli\n",
      "Top in 10: boy lunch eat im wait\n",
      "Top in 11: free text phone repli min\n",
      "Top in 12: know dont let just month\n",
      "Top in 13: da buy hi sleep way\n",
      "Top in 14: want charg mobil just dont\n",
      "Top in 15: ok lor smile said yup\n",
      "Top in 16: did pick aight babe went\n",
      "Top in 17: go yeah offic home plz\n",
      "Top in 18: pls send pay today late\n",
      "Top in 19: claim prize won mobil custom\n",
      "Top in 20: im come ill later sorri\n",
      "Top in 21: number receiv today pain 350\n",
      "Top in 22: love that miss make got\n",
      "Top in 23: ur wat finish lor lar\n",
      "Top in 24: oh work im messag realli\n",
      "Top in 25: box talk landlin holiday bore\n"
     ]
    }
   ],
   "source": [
    "X_train, _,_,_ = train_test_split(sms['text'], sms['label'], random_state=0, stratify=sms[[\"label\"]].values)  \n",
    "lda, cv = build_lda(X_train)\n",
    "\n",
    "for i, topic in enumerate(lda.components_, start=1):\n",
    "\n",
    "    print('Top in '+str(i)+':', \" \".join([cv.get_feature_names()[i] for i in topic.argsort()[:-6:-1]]))"
   ]
  },
  {
   "cell_type": "markdown",
   "metadata": {},
   "source": [
    "In a few sentences describe your observations with regard to comparing vanilla TF-IDF vs adding a LDA on top of a count vectorizer."
   ]
  },
  {
   "cell_type": "markdown",
   "metadata": {},
   "source": [
    "Hit `enter` to edit this cell\n",
    "\n",
    "TF-IDF out preforms LDA in all models, but it effects some algorithems more than others disproportionately. \n",
    "Decision tree preforms better than naive bayes in tfidf but a lot worse when using LDA"
   ]
  },
  {
   "cell_type": "code",
   "execution_count": null,
   "metadata": {},
   "outputs": [],
   "source": []
  }
 ],
 "metadata": {
  "kernelspec": {
   "display_name": "Python 3",
   "language": "python",
   "name": "python3"
  },
  "language_info": {
   "codemirror_mode": {
    "name": "ipython",
    "version": 3
   },
   "file_extension": ".py",
   "mimetype": "text/x-python",
   "name": "python",
   "nbconvert_exporter": "python",
   "pygments_lexer": "ipython3",
   "version": "3.7.5"
  }
 },
 "nbformat": 4,
 "nbformat_minor": 4
}
