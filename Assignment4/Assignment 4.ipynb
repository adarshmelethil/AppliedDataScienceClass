{
 "cells": [
  {
   "cell_type": "markdown",
   "metadata": {},
   "source": [
    "# ENSF 519.01 Applied Data Science \n",
    "**Assignment 4** - 100 marks\n",
    "\n",
    "**Due:** November 15, 04.00 pm.\n",
    "\n",
    "\n",
    "**IMPORTANT NOTE: each task must be implemented as asked, even if there are other easier or better solutions.**\n",
    "\n",
    "**How to deliver:**\n",
    "Edit this file and write your solutions in sections specified with `# Your solution`. Test your code and when you are done, submit this notebook as an `.ipynb` file to D2L dropbox. \n",
    "\n"
   ]
  },
  {
   "cell_type": "markdown",
   "metadata": {},
   "source": [
    "## Problem 1: Clustering and Classification (45 points)\n",
    "\n",
    "### Part A. Clustering\n",
    "In this problem, we apply two clustering algorithms on MNIST handwritten digits data and compare them using ARI score. Here you can see how image data are usually represented for machine learning tasks. Complete the code below to load the MNIST data, feel free to add more code (plotting graphs or printing values) to explore the dataset. In the end, since many algorithms work better or can work only with normalized data, use `scale` method in scikit learn to normalize the pixel values."
   ]
  },
  {
   "cell_type": "code",
   "execution_count": 1,
   "metadata": {},
   "outputs": [
    {
     "name": "stdout",
     "output_type": "stream",
     "text": [
      "Data shape: (1797, 64)\n",
      "First Data entry\n",
      "Data shape: (64,)\n",
      "Image shape: (8, 8)\n",
      "Target: 0\n",
      "Target Name: 0\n"
     ]
    },
    {
     "data": {
      "text/plain": [
       "<Figure size 432x288 with 0 Axes>"
      ]
     },
     "metadata": {},
     "output_type": "display_data"
    },
    {
     "data": {
      "image/png": "[encoded data removed]",
      "text/plain": [
       "<Figure size 288x288 with 1 Axes>"
      ]
     },
     "metadata": {
      "needs_background": "light"
     },
     "output_type": "display_data"
    },
    {
     "name": "stdout",
     "output_type": "stream",
     "text": [
      "(n_data, number of features) = (1797, 64)\n"
     ]
    },
    {
     "data": {
      "text/plain": [
       "array([ 0.,  5., 12., 13., 16., 16.,  2.,  0.,  0., 11., 16., 15.,  8.,\n",
       "        4.,  0.,  0.,  0.,  8., 14., 11.,  1.,  0.,  0.,  0.,  0.,  8.,\n",
       "       16., 16., 14.,  0.,  0.,  0.,  0.,  1.,  6.,  6., 16.,  0.,  0.,\n",
       "        0.,  0.,  0.,  0.,  5., 16.,  3.,  0.,  0.,  0.,  1.,  5., 15.,\n",
       "       13.,  0.,  0.,  0.,  0.,  4., 15., 16.,  2.,  0.,  0.,  0.])"
      ]
     },
     "metadata": {},
     "output_type": "display_data"
    },
    {
     "data": {
      "text/plain": [
       "5"
      ]
     },
     "metadata": {},
     "output_type": "display_data"
    },
    {
     "data": {
      "image/png": "[encoded data removed]",
      "text/plain": [
       "<Figure size 432x288 with 1 Axes>"
      ]
     },
     "metadata": {
      "needs_background": "light"
     },
     "output_type": "display_data"
    }
   ],
   "source": [
    "import numpy as np\n",
    "import matplotlib.pyplot as plt\n",
    "%matplotlib inline\n",
    "\n",
    "from sklearn import metrics\n",
    "from sklearn.cluster import KMeans\n",
    "from sklearn.datasets import load_digits\n",
    "from sklearn.preprocessing import scale\n",
    "\n",
    "digits = load_digits()\n",
    "\n",
    "print(f\"Data shape: {digits.data.shape}\")\n",
    "print(\"First Data entry\")\n",
    "print(f\"Data shape: {digits.data[0].shape}\")\n",
    "print(f\"Image shape: {digits.images[0].shape}\")\n",
    "print(f\"Target: {digits.target[0]}\")\n",
    "print(f\"Target Name: {digits.target_names[0]}\")\n",
    "\n",
    "plt.gray()\n",
    "plt.matshow(digits.images[0]) \n",
    "plt.show()\n",
    "\n",
    "data = digits.data\n",
    "labels = digits.target\n",
    "\n",
    "print('(n_data, number of features) =', data.shape)  # = (1797, 64)\n",
    "# There are 64 features per sample, since each sample is a 8*8 image.\n",
    "\n",
    "# Let's see a sample:\n",
    "display(data[15], labels[15])\n",
    "plt.imshow(data[15].reshape((8, 8)));  # See that nice little 5 there?\n",
    "\n",
    "# Scale and normalize the feature values using:\n",
    "# https://scikit-learn.org/stable/modules/generated/sklearn.preprocessing.scale.html\n",
    "\n",
    "data = scale(data)"
   ]
  },
  {
   "cell_type": "markdown",
   "metadata": {},
   "source": [
    "Using the pixel values as the features, apply k-means clustering to cluster the digits together. Try K-means with number of clusters = 10, use ARI score to compare KMeans clustereing results with the ground truth."
   ]
  },
  {
   "cell_type": "code",
   "execution_count": 2,
   "metadata": {},
   "outputs": [
    {
     "name": "stdout",
     "output_type": "stream",
     "text": [
      "K-Means ARI score = 0.46507\n"
     ]
    }
   ],
   "source": [
    "# Your solution\n",
    "from sklearn.metrics import adjusted_rand_score\n",
    "\n",
    "kmeans = KMeans(n_clusters=10, random_state=0).fit_predict(data)\n",
    "ARI_score = adjusted_rand_score(labels, kmeans)\n",
    "\n",
    "print(f'K-Means ARI score = {ARI_score:.5}')"
   ]
  },
  {
   "cell_type": "markdown",
   "metadata": {},
   "source": [
    "Apply agglomerative clustering technique on the data. Again set cut-off number of clusters to 10. Try 4 different values of linkage (ward, complete, average, and single) and 3 distance calculation modes (affinity): euclidean, L1, and L2. Report ARI score wrt ground truth for each method. Since ward linkage can only work with euclidean distance mode, skip L1 and L2 when using ward."
   ]
  },
  {
   "cell_type": "code",
   "execution_count": 3,
   "metadata": {},
   "outputs": [
    {
     "name": "stdout",
     "output_type": "stream",
     "text": [
      "AHC Affinity=euclidean Linkage mode=ward     ARI score = 0.66435\n",
      "AHC Affinity=euclidean Linkage mode=complete ARI score = 0.00029815\n",
      "AHC Affinity=l1        Linkage mode=complete ARI score = 0.1921\n",
      "AHC Affinity=l2        Linkage mode=complete ARI score = 0.00029815\n",
      "AHC Affinity=euclidean Linkage mode=average  ARI score = 2.345e-05\n",
      "AHC Affinity=l1        Linkage mode=average  ARI score = 0.00053779\n",
      "AHC Affinity=l2        Linkage mode=average  ARI score = 2.345e-05\n",
      "AHC Affinity=euclidean Linkage mode=single   ARI score = 9.454e-06\n",
      "AHC Affinity=l1        Linkage mode=single   ARI score = 6.6739e-06\n",
      "AHC Affinity=l2        Linkage mode=single   ARI score = 9.454e-06\n"
     ]
    }
   ],
   "source": [
    "from sklearn.cluster import AgglomerativeClustering\n",
    "\n",
    "for linkage_mode in ('ward', 'complete', 'average', 'single'):\n",
    "    for affinity in ('euclidean', 'l1', 'l2'):\n",
    "        # Your solution\n",
    "        if linkage_mode == \"ward\" and affinity != \"euclidean\":\n",
    "            continue\n",
    "        ac_predict = AgglomerativeClustering(affinity=affinity, linkage=linkage_mode, n_clusters=10).fit_predict(data)\n",
    "        \n",
    "        ARI_score = adjusted_rand_score(labels, ac_predict)\n",
    "        \n",
    "        print(f'AHC Affinity={affinity:9} Linkage mode={linkage_mode:8} ARI score = {ARI_score:.5}')"
   ]
  },
  {
   "cell_type": "markdown",
   "metadata": {},
   "source": [
    "### Part B. Multiclass Classification\n",
    "\n",
    "Now we are going to use the same dataset but for a different task, which is multi-class classification. The 64 pixel values will be the features and the labels are the actual written digit. Train a Linear SVC classifier and compare it with an ensemble of LogisticRegression classifiers. SVC and Logistic Regression are binary classifiers at their cores, but their scikit-learn implementation automatically handles the one-versus-rest scheme for you. For logistic regression try both 'ovr' (one-versus-rest) and 'multinomial' for multiclass handling method. Keep the scores for all four classification methods and draw a box plot in the end to compare them.\n"
   ]
  },
  {
   "cell_type": "code",
   "execution_count": 8,
   "metadata": {},
   "outputs": [],
   "source": [
    "from sklearn.model_selection import train_test_split\n",
    "from sklearn.ensemble import VotingClassifier\n",
    "from sklearn.svm import LinearSVC\n",
    "from sklearn.linear_model import LogisticRegression\n",
    "import numpy as np\n",
    "\n",
    "scores = {name: [] for name in ('SVC', 'LR ovr', 'LR mn', 'LR ensemble')}\n",
    "for seed in np.arange(1, 30+1):\n",
    "    X_train, X_test, y_train, y_test = train_test_split(data, labels, random_state=seed)\n",
    "\n",
    "    # Your solution\n",
    "    svc = LinearSVC(random_state=seed, dual=False, loss=\"squared_hinge\").fit(X_train, y_train)\n",
    "    lr_ovr = LogisticRegression(random_state=seed, multi_class=\"ovr\", solver=\"lbfgs\").fit(X_train, y_train)\n",
    "    lr_mn = LogisticRegression(random_state=seed,multi_class=\"multinomial\", solver=\"newton-cg\").fit(X_train, y_train)\n",
    "    \n",
    "    \n",
    "    lr_ensemble =VotingClassifier(estimators=[\n",
    "        ('lr_ovr', LogisticRegression(random_state=seed, multi_class=\"ovr\", solver=\"lbfgs\")), \n",
    "        ('lr_mn', LogisticRegression(random_state=seed,multi_class=\"multinomial\", solver=\"newton-cg\"))],\n",
    "        voting='hard').fit(X_train, y_train)\n",
    "    \n",
    "    scores[\"SVC\"].append(adjusted_rand_score(y_test, svc.predict(X_test)))\n",
    "    scores[\"LR ovr\"].append(adjusted_rand_score(y_test, lr_ovr.predict(X_test)))\n",
    "    scores[\"LR mn\"].append(adjusted_rand_score(y_test, lr_mn.predict(X_test)))\n",
    "    scores[\"LR ensemble\"].append(adjusted_rand_score(y_test, lr_ensemble.predict(X_test)))\n",
    "    "
   ]
  },
  {
   "cell_type": "code",
   "execution_count": 9,
   "metadata": {},
   "outputs": [
    {
     "name": "stdout",
     "output_type": "stream",
     "text": [
      "        SVC    LR ovr     LR mn  LR ensemble\n",
      "0  0.917956  0.932816  0.961520     0.956319\n",
      "1  0.865264  0.874318  0.886150     0.879190\n",
      "2  0.889628  0.917995  0.906921     0.910599\n",
      "3  0.915671  0.937490  0.932888     0.932523\n",
      "4  0.910034  0.912723  0.927513     0.913380\n",
      "SVC            0.901421\n",
      "LR ovr         0.918327\n",
      "LR mn          0.928242\n",
      "LR ensemble    0.922121\n",
      "dtype: float64\n"
     ]
    },
    {
     "data": {
      "text/plain": [
       "<matplotlib.axes._subplots.AxesSubplot at 0x1a2159c4e0>"
      ]
     },
     "execution_count": 9,
     "metadata": {},
     "output_type": "execute_result"
    },
    {
     "data": {
      "image/png": "[encoded data removed]",
      "text/plain": [
       "<Figure size 432x288 with 1 Axes>"
      ]
     },
     "metadata": {
      "needs_background": "light"
     },
     "output_type": "display_data"
    }
   ],
   "source": [
    "import pandas as pd\n",
    "\n",
    "scores_pd = pd.DataFrame(scores)\n",
    "print(scores_pd.head())\n",
    "print(scores_pd.mean())\n",
    "scores_pd.mean().plot.bar()"
   ]
  },
  {
   "cell_type": "markdown",
   "metadata": {},
   "source": [
    "## Problem 2: Dimension reduction for feature selection (25 points)\n",
    "\n",
    "In the first part of this problem, we compare the dimension reduction ability of PCA and linear regression models.\n",
    "\n",
    "To use linear regression model as a dimension reduction technique, we fit the model and pick the most informative features (highest absolute coefficients) and ignore all other ones. \n",
    "\n",
    "Our dataset is \"LLVMAll.csv\", which records some performance measurements of a LLVM Compiler. See https://zenodo.org/record/322483#.Xbmov0VKjOT for more details.\n",
    "\n",
    "- Read the dataset and apply proper normalization on each row. Note that you only apply it on the feature columns and leave the target values (performance) untouched.\n",
    "- Apply Linear Regression with default paramters to pick the two most important features (use `top_k_indices`).\n",
    "- Fit a PCA model (with default paramters) on the original training set to find the first two principal components.\n",
    "- Now for comparison, build 3 Linear Regression models only differing on their input/output data: \n",
    "    1. use the original training and test sets\n",
    "    2. use the train and test set given by linear regression selected features\n",
    "    3. use the PCA transformed data\n",
    "- Repeat the steps above 30 times with random_state range [1..30] for train/test splitter and calculate the test scores in the end. Note that for each run a new PCA and Linear regression should be applied (i.e., do not transform new data based on the old fitted models)\n",
    "- Report the median scores over 30 runs for each of the three models"
   ]
  },
  {
   "cell_type": "code",
   "execution_count": 10,
   "metadata": {},
   "outputs": [
    {
     "data": {
      "text/html": [
       "<div>\n",
       "<style scoped>\n",
       "    .dataframe tbody tr th:only-of-type {\n",
       "        vertical-align: middle;\n",
       "    }\n",
       "\n",
       "    .dataframe tbody tr th {\n",
       "        vertical-align: top;\n",
       "    }\n",
       "\n",
       "    .dataframe thead th {\n",
       "        text-align: right;\n",
       "    }\n",
       "</style>\n",
       "<table border=\"1\" class=\"dataframe\">\n",
       "  <thead>\n",
       "    <tr style=\"text-align: right;\">\n",
       "      <th></th>\n",
       "      <th>$time_passes</th>\n",
       "      <th>$gvn</th>\n",
       "      <th>$instcombine</th>\n",
       "      <th>$inline</th>\n",
       "      <th>$jump_threading</th>\n",
       "      <th>$simplifycfg</th>\n",
       "      <th>$sccp</th>\n",
       "      <th>$print_used_types</th>\n",
       "      <th>$ipsccp</th>\n",
       "      <th>$iv_users</th>\n",
       "      <th>$licm</th>\n",
       "      <th>$&lt;Performance</th>\n",
       "    </tr>\n",
       "  </thead>\n",
       "  <tbody>\n",
       "    <tr>\n",
       "      <th>count</th>\n",
       "      <td>1024.0</td>\n",
       "      <td>1024.000000</td>\n",
       "      <td>1024.000000</td>\n",
       "      <td>1024.000000</td>\n",
       "      <td>1024.000000</td>\n",
       "      <td>1024.000000</td>\n",
       "      <td>1024.000000</td>\n",
       "      <td>1024.000000</td>\n",
       "      <td>1024.000000</td>\n",
       "      <td>1024.000000</td>\n",
       "      <td>1024.000000</td>\n",
       "      <td>1024.000000</td>\n",
       "    </tr>\n",
       "    <tr>\n",
       "      <th>mean</th>\n",
       "      <td>1.0</td>\n",
       "      <td>0.500000</td>\n",
       "      <td>0.500000</td>\n",
       "      <td>0.500000</td>\n",
       "      <td>0.500000</td>\n",
       "      <td>0.500000</td>\n",
       "      <td>0.750000</td>\n",
       "      <td>0.500000</td>\n",
       "      <td>0.500000</td>\n",
       "      <td>0.500000</td>\n",
       "      <td>0.500000</td>\n",
       "      <td>236.943145</td>\n",
       "    </tr>\n",
       "    <tr>\n",
       "      <th>std</th>\n",
       "      <td>0.0</td>\n",
       "      <td>0.500244</td>\n",
       "      <td>0.500244</td>\n",
       "      <td>0.500244</td>\n",
       "      <td>0.500244</td>\n",
       "      <td>0.500244</td>\n",
       "      <td>0.433224</td>\n",
       "      <td>0.500244</td>\n",
       "      <td>0.500244</td>\n",
       "      <td>0.500244</td>\n",
       "      <td>0.500244</td>\n",
       "      <td>17.143516</td>\n",
       "    </tr>\n",
       "    <tr>\n",
       "      <th>min</th>\n",
       "      <td>1.0</td>\n",
       "      <td>0.000000</td>\n",
       "      <td>0.000000</td>\n",
       "      <td>0.000000</td>\n",
       "      <td>0.000000</td>\n",
       "      <td>0.000000</td>\n",
       "      <td>0.000000</td>\n",
       "      <td>0.000000</td>\n",
       "      <td>0.000000</td>\n",
       "      <td>0.000000</td>\n",
       "      <td>0.000000</td>\n",
       "      <td>199.680000</td>\n",
       "    </tr>\n",
       "    <tr>\n",
       "      <th>25%</th>\n",
       "      <td>1.0</td>\n",
       "      <td>0.000000</td>\n",
       "      <td>0.000000</td>\n",
       "      <td>0.000000</td>\n",
       "      <td>0.000000</td>\n",
       "      <td>0.000000</td>\n",
       "      <td>0.750000</td>\n",
       "      <td>0.000000</td>\n",
       "      <td>0.000000</td>\n",
       "      <td>0.000000</td>\n",
       "      <td>0.000000</td>\n",
       "      <td>223.400000</td>\n",
       "    </tr>\n",
       "    <tr>\n",
       "      <th>50%</th>\n",
       "      <td>1.0</td>\n",
       "      <td>0.500000</td>\n",
       "      <td>0.500000</td>\n",
       "      <td>0.500000</td>\n",
       "      <td>0.500000</td>\n",
       "      <td>0.500000</td>\n",
       "      <td>1.000000</td>\n",
       "      <td>0.500000</td>\n",
       "      <td>0.500000</td>\n",
       "      <td>0.500000</td>\n",
       "      <td>0.500000</td>\n",
       "      <td>236.920000</td>\n",
       "    </tr>\n",
       "    <tr>\n",
       "      <th>75%</th>\n",
       "      <td>1.0</td>\n",
       "      <td>1.000000</td>\n",
       "      <td>1.000000</td>\n",
       "      <td>1.000000</td>\n",
       "      <td>1.000000</td>\n",
       "      <td>1.000000</td>\n",
       "      <td>1.000000</td>\n",
       "      <td>1.000000</td>\n",
       "      <td>1.000000</td>\n",
       "      <td>1.000000</td>\n",
       "      <td>1.000000</td>\n",
       "      <td>250.540000</td>\n",
       "    </tr>\n",
       "    <tr>\n",
       "      <th>max</th>\n",
       "      <td>1.0</td>\n",
       "      <td>1.000000</td>\n",
       "      <td>1.000000</td>\n",
       "      <td>1.000000</td>\n",
       "      <td>1.000000</td>\n",
       "      <td>1.000000</td>\n",
       "      <td>1.000000</td>\n",
       "      <td>1.000000</td>\n",
       "      <td>1.000000</td>\n",
       "      <td>1.000000</td>\n",
       "      <td>1.000000</td>\n",
       "      <td>269.520000</td>\n",
       "    </tr>\n",
       "  </tbody>\n",
       "</table>\n",
       "</div>"
      ],
      "text/plain": [
       "       $time_passes         $gvn  $instcombine      $inline  $jump_threading  \\\n",
       "count        1024.0  1024.000000   1024.000000  1024.000000      1024.000000   \n",
       "mean            1.0     0.500000      0.500000     0.500000         0.500000   \n",
       "std             0.0     0.500244      0.500244     0.500244         0.500244   \n",
       "min             1.0     0.000000      0.000000     0.000000         0.000000   \n",
       "25%             1.0     0.000000      0.000000     0.000000         0.000000   \n",
       "50%             1.0     0.500000      0.500000     0.500000         0.500000   \n",
       "75%             1.0     1.000000      1.000000     1.000000         1.000000   \n",
       "max             1.0     1.000000      1.000000     1.000000         1.000000   \n",
       "\n",
       "       $simplifycfg        $sccp  $print_used_types      $ipsccp    $iv_users  \\\n",
       "count   1024.000000  1024.000000        1024.000000  1024.000000  1024.000000   \n",
       "mean       0.500000     0.750000           0.500000     0.500000     0.500000   \n",
       "std        0.500244     0.433224           0.500244     0.500244     0.500244   \n",
       "min        0.000000     0.000000           0.000000     0.000000     0.000000   \n",
       "25%        0.000000     0.750000           0.000000     0.000000     0.000000   \n",
       "50%        0.500000     1.000000           0.500000     0.500000     0.500000   \n",
       "75%        1.000000     1.000000           1.000000     1.000000     1.000000   \n",
       "max        1.000000     1.000000           1.000000     1.000000     1.000000   \n",
       "\n",
       "             $licm  $<Performance  \n",
       "count  1024.000000    1024.000000  \n",
       "mean      0.500000     236.943145  \n",
       "std       0.500244      17.143516  \n",
       "min       0.000000     199.680000  \n",
       "25%       0.000000     223.400000  \n",
       "50%       0.500000     236.920000  \n",
       "75%       1.000000     250.540000  \n",
       "max       1.000000     269.520000  "
      ]
     },
     "execution_count": 10,
     "metadata": {},
     "output_type": "execute_result"
    }
   ],
   "source": [
    "llvm_pd  = pd.read_csv('LLVMAll.csv')\n",
    "llvm_pd.describe()"
   ]
  },
  {
   "cell_type": "code",
   "execution_count": 11,
   "metadata": {},
   "outputs": [
    {
     "name": "stdout",
     "output_type": "stream",
     "text": [
      "['$time_passes', '$gvn', '$instcombine', '$inline', '$jump_threading', '$simplifycfg', '$sccp', '$print_used_types', '$ipsccp', '$iv_users', '$licm', '$<Performance']\n"
     ]
    },
    {
     "data": {
      "image/png": "[encoded data removed]",
      "text/plain": [
       "<Figure size 432x288 with 1 Axes>"
      ]
     },
     "metadata": {
      "needs_background": "light"
     },
     "output_type": "display_data"
    },
    {
     "data": {
      "image/png": "[encoded data removed]",
      "text/plain": [
       "<Figure size 432x288 with 1 Axes>"
      ]
     },
     "metadata": {
      "needs_background": "light"
     },
     "output_type": "display_data"
    },
    {
     "data": {
      "image/png": "[encoded data removed]",
      "text/plain": [
       "<Figure size 432x288 with 1 Axes>"
      ]
     },
     "metadata": {
      "needs_background": "light"
     },
     "output_type": "display_data"
    },
    {
     "data": {
      "image/png": "[encoded data removed]",
      "text/plain": [
       "<Figure size 432x288 with 1 Axes>"
      ]
     },
     "metadata": {
      "needs_background": "light"
     },
     "output_type": "display_data"
    },
    {
     "data": {
      "image/png": "[encoded data removed]",
      "text/plain": [
       "<Figure size 432x288 with 1 Axes>"
      ]
     },
     "metadata": {
      "needs_background": "light"
     },
     "output_type": "display_data"
    },
    {
     "data": {
      "image/png": "[encoded data removed]",
      "text/plain": [
       "<Figure size 432x288 with 1 Axes>"
      ]
     },
     "metadata": {
      "needs_background": "light"
     },
     "output_type": "display_data"
    },
    {
     "data": {
      "image/png": "[encoded data removed]",
      "text/plain": [
       "<Figure size 432x288 with 1 Axes>"
      ]
     },
     "metadata": {
      "needs_background": "light"
     },
     "output_type": "display_data"
    },
    {
     "data": {
      "image/png": "[encoded data removed]",
      "text/plain": [
       "<Figure size 432x288 with 1 Axes>"
      ]
     },
     "metadata": {
      "needs_background": "light"
     },
     "output_type": "display_data"
    },
    {
     "data": {
      "image/png": "[encoded data removed]",
      "text/plain": [
       "<Figure size 432x288 with 1 Axes>"
      ]
     },
     "metadata": {
      "needs_background": "light"
     },
     "output_type": "display_data"
    },
    {
     "data": {
      "image/png": "[encoded data removed]",
      "text/plain": [
       "<Figure size 432x288 with 1 Axes>"
      ]
     },
     "metadata": {
      "needs_background": "light"
     },
     "output_type": "display_data"
    },
    {
     "data": {
      "image/png": "[encoded data removed]",
      "text/plain": [
       "<Figure size 432x288 with 1 Axes>"
      ]
     },
     "metadata": {
      "needs_background": "light"
     },
     "output_type": "display_data"
    },
    {
     "data": {
      "image/png": "[encoded data removed]",
      "text/plain": [
       "<Figure size 432x288 with 1 Axes>"
      ]
     },
     "metadata": {
      "needs_background": "light"
     },
     "output_type": "display_data"
    }
   ],
   "source": [
    "features = list(llvm_pd.columns)\n",
    "print(features)\n",
    "for f in features:\n",
    "    if f != \"$<Performance\":\n",
    "        llvm_pd[f].value_counts().reset_index().plot.bar(x='index', y=f, rot=0)\n",
    "    else:\n",
    "        llvm_pd.reset_index().plot.scatter(x=\"index\", y=f)"
   ]
  },
  {
   "cell_type": "code",
   "execution_count": 66,
   "metadata": {},
   "outputs": [
    {
     "name": "stdout",
     "output_type": "stream",
     "text": [
      "4 0 "
     ]
    }
   ],
   "source": [
    "import numpy as np\n",
    "from sklearn.decomposition import PCA \n",
    "from sklearn.model_selection import train_test_split\n",
    "from sklearn.linear_model import LinearRegression\n",
    "from sklearn.preprocessing import normalize\n",
    "import pandas as pd\n",
    "from IPython.display import Markdown\n",
    "%matplotlib inline\n",
    "\n",
    "\n",
    "def read_and_normalize(file_name):\n",
    "    llvm_pd  = pd.read_csv(file_name)\n",
    "    labels = llvm_pd[\"$<Performance\"]\n",
    "    features = llvm_pd.drop([\"$time_passes\", \"$<Performance\"], axis=1)\n",
    "    return features, labels\n",
    "\n",
    "\n",
    "def top_k_indices(l, k=1):\n",
    "    \"\"\"\n",
    "    Return indices of top k elements of l.\n",
    "    \n",
    "    Example:\n",
    "    for index in top_k_indices([5, 0, 0, 4, 10, 1], k=2):\n",
    "        print(index)\n",
    "        \n",
    "    result: 4 0\n",
    "    \"\"\"\n",
    "    index_val = sorted(zip(range(len(l)), l), key=lambda x: x[1], reverse=True)\n",
    "    for i in range(k):\n",
    "        yield index_val[i][0]\n",
    "    return\n",
    "\n",
    "for index in top_k_indices([5, 0, 0, 4, 10, 1], k=2):\n",
    "    print(index, end=' ')"
   ]
  },
  {
   "cell_type": "code",
   "execution_count": 82,
   "metadata": {},
   "outputs": [
    {
     "data": {
      "text/markdown": [
       "|[]()|Median scores|\n",
       "|---|---|\n",
       "|**Original**|0.7779|\n",
       "|**PCA**|0.4564|\n",
       "|**LR**|0.02264|\n"
      ],
      "text/plain": [
       "<IPython.core.display.Markdown object>"
      ]
     },
     "metadata": {},
     "output_type": "display_data"
    }
   ],
   "source": [
    "from sklearn.metrics import r2_score\n",
    "from statistics import median\n",
    "\n",
    "features, labels = read_and_normalize('LLVMAll.csv')\n",
    "\n",
    "scores = {name: [] for name in ('original', 'pca', 'lr')}\n",
    "for seed in np.arange(1, 30+1):\n",
    "    X_train, X_test, y_train, y_test = train_test_split(features, labels, random_state=seed)\n",
    "    \n",
    "    # Your solution\n",
    "    lr = LinearRegression().fit(X_train, y_train)\n",
    "    lr_coef_index = list(top_k_indices(lr.coef_, 2))\n",
    "    lr_coef = [features.columns[i] for i in lr_coef_index]\n",
    "    \n",
    "    pca = PCA(n_components=2).fit(X_train)\n",
    "    \n",
    "    lr_original = LinearRegression().fit(X_train, y_train)\n",
    "    lr_lr_reduction = LinearRegression().fit(X_train[lr_coef], y_train)\n",
    "    lr_pca = LinearRegression().fit(pca.transform(X_train), y_train)\n",
    "    \n",
    "    \n",
    "    scores[\"original\"].append(r2_score(y_test, lr_original.predict(X_test)))\n",
    "    scores[\"pca\"].append(r2_score(y_test, lr_lr_reduction.predict(X_test[lr_coef])))\n",
    "    scores[\"lr\"].append(r2_score(y_test, lr_pca.predict(pca.transform(X_test))))\n",
    "\n",
    "median_original, median_pca, median_lr = median(scores[\"original\"]),  median(scores[\"pca\"]),  median(scores[\"lr\"])\n",
    "\n",
    "display(Markdown(\\\n",
    "f'|[]()|Median scores|\\n{\"|---\"*2}|\\n'\n",
    "f'|**Original**|{median_original:.4}|\\n'\n",
    "f'|**PCA**|{median_pca:.4}|\\n'\n",
    "f'|**LR**|{median_lr:.4}|\\n'))"
   ]
  },
  {
   "cell_type": "markdown",
   "metadata": {},
   "source": [
    "Explain your observation with respect to relative performance of PCA and linear regression for dimension reduction and why this has happened in a few sentences."
   ]
  },
  {
   "cell_type": "markdown",
   "metadata": {},
   "source": [
    "**Edit this cell to answer**\n",
    "\n",
    "The data labels was scattered so when the orignal linear regression model was fitted it genearlized using all the data, which produced a score of 0.78. The top fatures that effected these labels as a whole would also incloude outliers.\n",
    "\n",
    "PCA would look at the dimention that were the most variaint in the dataset without looking at the labels."
   ]
  },
  {
   "cell_type": "markdown",
   "metadata": {},
   "source": [
    "## Problem 3: Local vs. Global Prediction (30 points)\n",
    "\n",
    "In many situations, your training dataset is very large to include as many observations as possible, which is typically a good thing. For instance, a complex prediction model for image captioning works best if the learning dataset is massive and rich. However, if you are using a simple model (like a linear regression) for any reason (e.g., speed, interpretability, etc.) one caveat of very large datasets is that they might actually become very far off from your test set.\n",
    "For instance, assume you have to predict online sales for a particular book. But your training set is the entire Amazon’s historical sales records. Obviously a simple linear model will not work well, trying to fit a line that predicts sales of everything, from books, to grocery, to toys, etc.\n",
    "\n",
    "One simple solution could be training your model only on a portion of the training set that is more similar to the data you're interested in. For instance, in the above example, only train on the book records. \n",
    "\n",
    "In this part, we want to evaluate this idea automatically, by first clustering the training dataset and then fitting the model only on the closets cluster to the test data.\n",
    "\n",
    "\n",
    "- Read data from the csv dataset `filename='CPU_Performance.csv'`. The columns in the dataset are:\n",
    "    \n",
    "    - MYCT: machine cycle time in nanoseconds (integer) \n",
    "    - MMIN: minimum main memory in kilobytes (integer) \n",
    "    - MMAX: maximum main memory in kilobytes (integer) \n",
    "    - CACH: cache memory in kilobytes (integer) \n",
    "    - CHMIN: minimum channels in units (integer) \n",
    "    - CHMAX: maximum channels in units (integer) \n",
    "    - PRP: published relative performance (integer) \n",
    "    - ERP: estimated relative performance from the original article (integer)\n",
    "    \n",
    "    Use the last column (ERP) as the target and the others as features.\n",
    "\n",
    "- Take 80% of data as train and 20% as test using train_test_split with `random_state=0`\n",
    "- Build a linear SVM model and report its mean squared error on the test data\n",
    "- Cluster the training set to multiple clusters using Kmeans (K from 2 to 5 inclusive and `random_state=0`)\n",
    "- Find the most similar cluster to the test set. To do this find the cluster that most of the the test data fall into, if they are predicted using the cluster model.\n",
    "- Build a local linear svm model where you use only the closets cluster as your train dataset (all other setups unchanged)"
   ]
  },
  {
   "cell_type": "code",
   "execution_count": 133,
   "metadata": {},
   "outputs": [
    {
     "name": "stdout",
     "output_type": "stream",
     "text": [
      "global error=8744.7\n",
      "k=2 error=698.32\n",
      "k=3 error=79.131\n",
      "k=4 error=79.131\n",
      "k=5 error=94.246\n"
     ]
    },
    {
     "name": "stderr",
     "output_type": "stream",
     "text": [
      "/anaconda3/lib/python3.7/site-packages/sklearn/svm/base.py:931: ConvergenceWarning: Liblinear failed to converge, increase the number of iterations.\n",
      "  \"the number of iterations.\", ConvergenceWarning)\n",
      "/anaconda3/lib/python3.7/site-packages/sklearn/svm/base.py:931: ConvergenceWarning: Liblinear failed to converge, increase the number of iterations.\n",
      "  \"the number of iterations.\", ConvergenceWarning)\n",
      "/anaconda3/lib/python3.7/site-packages/sklearn/svm/base.py:931: ConvergenceWarning: Liblinear failed to converge, increase the number of iterations.\n",
      "  \"the number of iterations.\", ConvergenceWarning)\n",
      "/anaconda3/lib/python3.7/site-packages/sklearn/svm/base.py:931: ConvergenceWarning: Liblinear failed to converge, increase the number of iterations.\n",
      "  \"the number of iterations.\", ConvergenceWarning)\n",
      "/anaconda3/lib/python3.7/site-packages/sklearn/svm/base.py:931: ConvergenceWarning: Liblinear failed to converge, increase the number of iterations.\n",
      "  \"the number of iterations.\", ConvergenceWarning)\n"
     ]
    }
   ],
   "source": [
    "import pandas as pd\n",
    "import numpy as np\n",
    "from sklearn.metrics import mean_squared_error\n",
    "from sklearn.svm import LinearSVR\n",
    "from sklearn.cluster import KMeans\n",
    "from scipy.stats import mode\n",
    "\n",
    "\n",
    "# Your solution\n",
    "# Split the data into traingin and testing sets as described above\n",
    "filename='CPU_Performance.csv'\n",
    "dataset = pd.read_csv(filename)\n",
    "labels = dataset['ERP']\n",
    "features = dataset.drop(\"ERP\", axis=1)\n",
    "\n",
    "X_train, X_test, y_train, y_test = train_test_split(features, labels, random_state=seed)\n",
    "# Train a LinearSVR model on data and report its score on test set\n",
    "model = LinearSVR(random_state=0).fit(X_train, y_train)\n",
    "score = mean_squared_error(y_test, model.predict(X_test))\n",
    "print(f'global error={score:.5}')\n",
    "\n",
    "for k in range(2, 5+1):\n",
    "    # Make a kMeans clustrer\n",
    "    kmeans = KMeans(n_clusters=k, random_state=0).fit(X_train)\n",
    "    \n",
    "    # Find the cluster which will contains the majority of test points\n",
    "    closest_cluster_id = mode(kmeans.predict(X_train))[0][0]\n",
    "    \n",
    "    # Create a subset of training and test sets containing only the data that fall into the cluster above\n",
    "    new_data_indexs = [l == closest_cluster_id for l in kmeans.labels_]\n",
    "    local_X_train, local_y_train = X_train[new_data_indexs], y_train[new_data_indexs]\n",
    "    \n",
    "    new_data_indexs_test = [l == closest_cluster_id for l in kmeans.predict(X_test)]\n",
    "    local_X_test, local_y_test = X_test[new_data_indexs_test], y_test[new_data_indexs_test]\n",
    "    \n",
    "#     # Train a LinearSVR model on the local data and report its mean squared error on test set\n",
    "    model = LinearSVR(random_state=0).fit(local_X_train, local_y_train)\n",
    "    score = mean_squared_error(local_y_test, model.predict(local_X_test))\n",
    "    print(f'k={k} error={score:.5}')\n",
    "    "
   ]
  },
  {
   "cell_type": "markdown",
   "metadata": {},
   "source": [
    "Did the error go down or up? Do you think it is a good practice or it's getting better (if it did) because some information is leaking from the test set?\n",
    "\n",
    "The error went down till it got to 3 clusters where it stopped improving. I think it is good practice to cluster and group together datapoints that are similar to reduce noice in the dataset."
   ]
  },
  {
   "cell_type": "code",
   "execution_count": null,
   "metadata": {},
   "outputs": [],
   "source": []
  }
 ],
 "metadata": {
  "kernelspec": {
   "display_name": "Python 3",
   "language": "python",
   "name": "python3"
  },
  "language_info": {
   "codemirror_mode": {
    "name": "ipython",
    "version": 3
   },
   "file_extension": ".py",
   "mimetype": "text/x-python",
   "name": "python",
   "nbconvert_exporter": "python",
   "pygments_lexer": "ipython3",
   "version": "3.7.5"
  }
 },
 "nbformat": 4,
 "nbformat_minor": 4
}
